{
 "cells": [
  {
   "cell_type": "code",
   "execution_count": 1,
   "metadata": {
    "collapsed": true
   },
   "outputs": [],
   "source": [
    "import pandas as pd\n",
    "import matplotlib.pyplot as plt\n",
    "import numpy as np\n",
    "import seaborn as sns"
   ]
  },
  {
   "cell_type": "code",
   "execution_count": 2,
   "metadata": {},
   "outputs": [
    {
     "data": {
      "text/plain": [
       "75733    1876|1228|2063|2739|1059|1654|2164|176|245|847...\n",
       "Name: taglist, dtype: object"
      ]
     },
     "execution_count": 2,
     "metadata": {},
     "output_type": "execute_result"
    }
   ],
   "source": [
    "user_taglist = pd.read_csv('./user_taglist.csv', names=['user_id', 'taglist', 'insertdate'])\n",
    "user_taglist.head()\n",
    "\n",
    "example = user_taglist.loc[user_taglist['user_id'] == 316610].sort_values('insertdate')\n",
    "example['taglist']"
   ]
  },
  {
   "cell_type": "code",
   "execution_count": 3,
   "metadata": {
    "collapsed": true
   },
   "outputs": [],
   "source": [
    "# 第一步 拆分，生成多列\n",
    "# taglist = user_taglist['taglist'].str.split('|', expand=True)\n",
    "# 第二步 行转列\n",
    "# taglist = taglist.stack()\n",
    "# 第三步 重置索引，并命名（并删除多余的索引）\n",
    "# taglist = taglist.reset_index(level=1, drop=True)\n",
    "\n",
    "# taglist.loc[taglist['user_id'] == 316610]\n",
    "\n",
    "user_taglist_new = user_taglist.drop(['taglist'], axis=1).join(user_taglist['taglist'].str.split('|', expand=True).stack().reset_index(level=1, drop=True).rename('tag'))"
   ]
  },
  {
   "cell_type": "code",
   "execution_count": 8,
   "metadata": {},
   "outputs": [
    {
     "data": {
      "text/html": [
       "<div>\n",
       "<style scoped>\n",
       "    .dataframe tbody tr th:only-of-type {\n",
       "        vertical-align: middle;\n",
       "    }\n",
       "\n",
       "    .dataframe tbody tr th {\n",
       "        vertical-align: top;\n",
       "    }\n",
       "\n",
       "    .dataframe thead th {\n",
       "        text-align: right;\n",
       "    }\n",
       "</style>\n",
       "<table border=\"1\" class=\"dataframe\">\n",
       "  <thead>\n",
       "    <tr style=\"text-align: right;\">\n",
       "      <th></th>\n",
       "      <th>user_id</th>\n",
       "      <th>insertdate</th>\n",
       "      <th>tag</th>\n",
       "    </tr>\n",
       "  </thead>\n",
       "  <tbody>\n",
       "    <tr>\n",
       "      <th>0</th>\n",
       "      <td>46789</td>\n",
       "      <td>2018-05-18</td>\n",
       "      <td>4025</td>\n",
       "    </tr>\n",
       "    <tr>\n",
       "      <th>1</th>\n",
       "      <td>46789</td>\n",
       "      <td>2018-05-18</td>\n",
       "      <td>4644</td>\n",
       "    </tr>\n",
       "    <tr>\n",
       "      <th>2</th>\n",
       "      <td>46789</td>\n",
       "      <td>2018-05-18</td>\n",
       "      <td>1868</td>\n",
       "    </tr>\n",
       "    <tr>\n",
       "      <th>3</th>\n",
       "      <td>46789</td>\n",
       "      <td>2018-05-18</td>\n",
       "      <td>3920</td>\n",
       "    </tr>\n",
       "    <tr>\n",
       "      <th>4</th>\n",
       "      <td>46789</td>\n",
       "      <td>2018-05-18</td>\n",
       "      <td>5253</td>\n",
       "    </tr>\n",
       "  </tbody>\n",
       "</table>\n",
       "</div>"
      ],
      "text/plain": [
       "   user_id  insertdate   tag\n",
       "0    46789  2018-05-18  4025\n",
       "1    46789  2018-05-18  4644\n",
       "2    46789  2018-05-18  1868\n",
       "3    46789  2018-05-18  3920\n",
       "4    46789  2018-05-18  5253"
      ]
     },
     "execution_count": 8,
     "metadata": {},
     "output_type": "execute_result"
    }
   ],
   "source": [
    "user_taglist_new.loc[user_taglist_new['user_id'] == 316610]\n",
    "\n",
    "# 写入新的文件\n",
    "# user_taglist_new.to_csv (\"user_taglist_preprocess.csv\", index=False, encoding = \"utf-8\")\n",
    "df = pd.read_csv(\"./user_taglist_preprocess.csv\", encoding = \"utf-8\")\n",
    "df.head()\n"
   ]
  },
  {
   "cell_type": "code",
   "execution_count": 12,
   "metadata": {},
   "outputs": [
    {
     "data": {
      "text/plain": [
       "user_id       26\n",
       "insertdate    26\n",
       "tag           26\n",
       "dtype: int64"
      ]
     },
     "execution_count": 12,
     "metadata": {},
     "output_type": "execute_result"
    }
   ],
   "source": [
    "# df.loc[df['user_id'] == 316610]\n",
    "df.loc[df['user_id'] == 316610].count()"
   ]
  }
 ],
 "metadata": {
  "kernelspec": {
   "display_name": "Python 3",
   "language": "python",
   "name": "python3"
  },
  "language_info": {
   "codemirror_mode": {
    "name": "ipython",
    "version": 3
   },
   "file_extension": ".py",
   "mimetype": "text/x-python",
   "name": "python",
   "nbconvert_exporter": "python",
   "pygments_lexer": "ipython3",
   "version": "3.6.2"
  }
 },
 "nbformat": 4,
 "nbformat_minor": 2
}

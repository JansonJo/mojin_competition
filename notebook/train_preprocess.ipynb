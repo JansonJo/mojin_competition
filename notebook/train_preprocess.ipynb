{
 "cells": [
  {
   "cell_type": "code",
   "execution_count": null,
   "metadata": {
    "collapsed": true
   },
   "outputs": [],
   "source": [
    "import pandas as pd\n",
    "import matplotlib.pyplot as plt\n",
    "import numpy as np\n",
    "import seaborn as sns"
   ]
  },
  {
   "cell_type": "code",
   "execution_count": null,
   "metadata": {},
   "outputs": [],
   "source": [
    "train_data = pd.read_csv('./train.csv', names=['user_id', 'listing_id', 'auditing_date', 'due_date', 'due_amt', 'repay_date'])\n",
    "train_data.head()\n",
    "\n",
    "train_data['due_interval'] = (pd.to_datetime(train_data['due_date']) - pd.to_datetime(train_data['auditing_date'])).dt.days\n",
    "# train_data['repay_interval'] = pd.to_datetime(train_data['repay_date']) - pd.to_datetime(train_data['auditing_date'])\n",
    "train_data.head(10)"
   ]
  },
  {
   "cell_type": "code",
   "execution_count": null,
   "metadata": {},
   "outputs": [],
   "source": [
    "train_data.drop('due_date', axis=1).head(10)\n",
    "train_data_2 = train_data.loc[train_data['repay_date']==r'\\N']\n",
    "train_data_1 = train_data.loc[train_data['repay_date']!=r'\\N']\n",
    "# train_data_3 = train_data.loc[train_data['repay_date']==r'\\\\N']\n",
    "train_data_1.loc[:,'repay_interval'] = (pd.to_datetime(train_data_1['repay_date']) - pd.to_datetime(train_data_1['auditing_date'])).dt.days\n",
    "\n",
    "# train_data.head()['repay_date']\n",
    "train_data_1.head()"
   ]
  },
  {
   "cell_type": "code",
   "execution_count": null,
   "metadata": {},
   "outputs": [],
   "source": [
    "train_data_2.loc[:,'repay_interval'] = 60000"
   ]
  },
  {
   "cell_type": "code",
   "execution_count": null,
   "metadata": {},
   "outputs": [],
   "source": [
    "train_data = train_data_1.append(train_data_2)\n",
    "# train_data.drop(['repay_date', 'due_date'], axis=1, inplace=True)\n",
    "train_data.sort_index().head()"
   ]
  },
  {
   "cell_type": "code",
   "execution_count": null,
   "metadata": {},
   "outputs": [],
   "source": [
    "train_data['repay_due_interval'] = train_data['repay_interval'] - train_data['due_interval']\n",
    "train_data.loc[train_data['repay_due_interval'] > 0, 'repay_due_interval'] = 1\n",
    "train_data.drop(['repay_interval'], axis=1, inplace=True)\n",
    "train_data['repay_amt'] = train_data['due_amt']\n",
    "train_data.loc[train_data['repay_due_interval'] > 0, 'repay_amt'] = 0\n",
    "\n",
    "train_data.to_csv (\"train_preprocess.csv\", index=False, encoding = \"utf-8\")\n",
    "df = pd.read_csv(\"./train_preprocess.csv\", encoding = \"utf-8\")\n",
    "df.head()\n",
    "\n",
    "# example = train_data.loc[train_data['user_id'] == 316610].sort_values('auditing_date')\n",
    "# example"
   ]
  },
  {
   "cell_type": "code",
   "execution_count": null,
   "metadata": {
    "collapsed": true
   },
   "outputs": [],
   "source": []
  }
 ],
 "metadata": {
  "kernelspec": {
   "display_name": "Python 3",
   "language": "python",
   "name": "python3"
  },
  "language_info": {
   "codemirror_mode": {
    "name": "ipython",
    "version": 3
   },
   "file_extension": ".py",
   "mimetype": "text/x-python",
   "name": "python",
   "nbconvert_exporter": "python",
   "pygments_lexer": "ipython3",
   "version": "3.6.2"
  }
 },
 "nbformat": 4,
 "nbformat_minor": 2
}
